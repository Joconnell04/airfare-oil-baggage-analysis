{
 "cells": [
  {
   "cell_type": "markdown",
   "id": "7a04d6e1",
   "metadata": {},
   "source": [
    "# CS2316 Final Project — Phase II  \n",
    "### Data cleaning, inflation adjustment, and merge prep\n",
    "\n",
    "**Team Members**  \n",
    "- Sushanth Naga Sai Chunduri  \n",
    "- Jackson O'Connell\n",
    "\n",
    "**What this notebook is for**  \n",
    "This is our Phase II notebook. The goal is to collect the required datasets, clean them, get them on the same structure, fix inconsistencies, and export cleaned versions for Phase III.  \n",
    "We are doing everything inside this one notebook since the TA grades only what is shown here.\n",
    "\n",
    "**Work split between us (based on our messages)**  \n",
    "- **Jackson**: EIA API code, CPI inflation adjustment, and setting up the merge structure  \n",
    "- **Sushanth**: Airfare CSV cleaning and BTS baggage-fee data from web (HTML/excel scrape or alternate per TA feedback)\n",
    "\n",
    "**Expected exported files from this notebook**  \n",
    "Jackson work:\n",
    "- `cpi_clean.csv`\n",
    "- `eia_clean.csv`\n",
    "\n",
    "Teammate work (coming later):\n",
    "- `airfare_clean.csv` (**TBD**)\n",
    "- `baggage_clean.csv` (**TBD**)\n",
    "- if TA makes us change baggage source we will update here (**TBD**)\n",
    "\n",
    "**What happens after cleaning**  \n",
    "Everything will be converted to quarterly format with matching keys so we can combine them in Phase III and start the actual analysis.  \n",
    "At the bottom of this notebook we will also list the 3–5 inconsistencies we fixed since that is required for Phase II.\n",
    "\n",
    "Once both parts are dropped in here and run top to bottom the notebook will be ready to submit for the Phase II deadline."
   ]
  },
  {
   "cell_type": "code",
   "execution_count": null,
   "id": "a77969fa",
   "metadata": {},
   "outputs": [],
   "source": []
  }
 ],
 "metadata": {
  "kernelspec": {
   "display_name": "base",
   "language": "python",
   "name": "python3"
  },
  "language_info": {
   "name": "python",
   "version": "3.12.2"
  }
 },
 "nbformat": 4,
 "nbformat_minor": 5
}
