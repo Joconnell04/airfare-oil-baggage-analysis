{
 "cells": [
  {
   "cell_type": "markdown",
   "id": "7a04d6e1",
   "metadata": {},
   "source": [
    "# CS2316 Final Project — Phase II  \n",
    "### Data Collection, Cleaning, Standardization, and Merge Preparation\n",
    "\n",
    "In this phase, the objective is to implement an end-to-end ETL pipeline for the three required datasets:\n",
    "\n",
    "1) **Downloaded dataset** — DOT Consumer Airfare Report (Table 1A CSV)  \n",
    "2) **HTML-sourced dataset** — BTS Baggage Fee revenues (web-scraped or link-extracted Excel)  \n",
    "3) **API/JSON dataset** — EIA WTI crude oil prices (via REST API)\n",
    "\n",
    "Additionally, an optional **FRED CPI JSON dataset** will be used for inflation normalization.\n",
    "\n",
    "The tasks for Phase II include:\n",
    "- Programmatically retrieving all required datasets (read/download/API/scrape)\n",
    "- Parsing into DataFrames\n",
    "- Cleaning and standardizing fields (date alignment to quarters, carrier naming, currency inflation-adjustment)\n",
    "- Creating at least 3–5 documented inconsistencies and resolving them in-code\n",
    "- Exporting all cleaned datasets to new files\n",
    "- Returning the cleaned DataFrames in the notebook\n",
    "- Preparing the merged structure so Phase III analysis can be done immediately\n",
    "\n",
    "Deliverable is a fully executed Jupyter notebook showing function-based ETL for each dataset, with cleaned exports and documented inconsistencies visible in the output.\n",
    "\n",
    "This part is written by: Jackson O'Connell"
   ]
  },
  {
   "cell_type": "code",
   "execution_count": null,
   "id": "a77969fa",
   "metadata": {},
   "outputs": [],
   "source": []
  }
 ],
 "metadata": {
  "kernelspec": {
   "display_name": "base",
   "language": "python",
   "name": "python3"
  },
  "language_info": {
   "name": "python",
   "version": "3.12.2"
  }
 },
 "nbformat": 4,
 "nbformat_minor": 5
}
