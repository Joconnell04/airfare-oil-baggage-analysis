{
 "cells": [
  {
   "cell_type": "markdown",
   "id": "7a04d6e1",
   "metadata": {},
   "source": [
    "# CS2316 Final Project — Phase II  \n",
    "### Data cleaning, inflation adjustment, and merge prep\n",
    "\n",
    "**Team Members**  \n",
    "- Sushanth Naga Sai Chunduri  \n",
    "- Jackson O'Connell\n",
    "\n",
    "**What this notebook is for**  \n",
    "This is our Phase II notebook. The goal is to collect the required datasets, clean them, get them on the same structure, fix inconsistencies, and export cleaned versions for Phase III.  \n",
    "We are doing everything inside this one notebook since the TA grades only what is shown here.\n",
    "\n",
    "**Work split between us (based on our messages)**  \n",
    "- **Jackson**: EIA API code, CPI inflation adjustment, and setting up the merge structure  \n",
    "- **Sushanth**: Airfare CSV cleaning and BTS baggage-fee data from web (HTML/excel scrape or alternate per TA feedback)\n",
    "\n",
    "**Expected exported files from this notebook**  \n",
    "Jackson work:\n",
    "- `cpi_clean.csv`\n",
    "- `eia_clean.csv`\n",
    "\n",
    "Teammate work (coming later):\n",
    "- `airfare_clean.csv` (**TBD**)\n",
    "- `baggage_clean.csv` (**TBD**)\n",
    "- if TA makes us change baggage source we will update here (**TBD**)\n",
    "\n",
    "**What happens after cleaning**  \n",
    "Everything will be converted to quarterly format with matching keys so we can combine them in Phase III and start the actual analysis.  \n",
    "At the bottom of this notebook we will also list the 3–5 inconsistencies we fixed since that is required for Phase II.\n",
    "\n",
    "Once both parts are dropped in here and run top to bottom the notebook will be ready to submit for the Phase II deadline."
   ]
  },
  {
   "cell_type": "markdown",
   "id": "80832109",
   "metadata": {},
   "source": [
    "## Part 0: Prep Work\n",
    "For Imports, Keys, Helper Functions, other basic stuff"
   ]
  },
  {
   "cell_type": "markdown",
   "id": "37a3568a",
   "metadata": {},
   "source": [
    "Step 1: Imports"
   ]
  },
  {
   "cell_type": "code",
   "execution_count": null,
   "id": "cce5e27d",
   "metadata": {},
   "outputs": [],
   "source": [
    "import json\n",
    "import requests\n",
    "import pandas as pd\n",
    "import numpy as np\n",
    "from bs4 import BeautifulSoup as bs4\n",
    "\n",
    "#NOTE to self: Getting lot of warnings about NumPy deprecations due to other things on my laptop requiring different versions.\n",
    "# If this happens again, make a new kernel specific to this folder."
   ]
  },
  {
   "cell_type": "markdown",
   "id": "f3537598",
   "metadata": {},
   "source": [
    "Step 2: Set Keys (for CPI, EIA, BTS, etc.)"
   ]
  },
  {
   "cell_type": "code",
   "execution_count": null,
   "id": "bd4e2bb9",
   "metadata": {},
   "outputs": [],
   "source": [
    "CPI_URL = \"https://api.stlouisfed.org/fred/series/observations?series_id=CPIAUCSL&api_key=8089a399255548ca15cfbc5a36571116&file_type=json\"\n",
    "EIA_URL = \"https://api.eia.gov/v2/petroleum/pri/spt/data/?frequency=monthly&data[0]=value&facets[series][]=PET.RWTC&api_key=gc3m0emd44qaMHTNQxwmLqupbzdCtHHB2G6aOCNl\"\n",
    "# BTS = #not sure we need this, TBD"
   ]
  },
  {
   "cell_type": "markdown",
   "id": "d784fcb3",
   "metadata": {},
   "source": [
    "Step 3: Helper functions (date formatting, file IO, etc.)"
   ]
  },
  {
   "cell_type": "code",
   "execution_count": 8,
   "id": "a9ed3e5d",
   "metadata": {},
   "outputs": [],
   "source": [
    "# formatting dates, need to use universally\n",
    "# date format: YYYYQn (e.g. 2023Q1, 2025Q2)\n",
    "def to_quarter_label(ts):\n",
    "    q = ((ts.month - 1) // 3) + 1\n",
    "    return f\"{ts.year}Q{q}\"\n",
    "\n",
    "# save dataframe to csv with an explicit mention of the path\n",
    "def save_csv(df, path):\n",
    "    df.to_csv(path, index=False)\n",
    "    print(f\"rewrote {path}\")\n",
    "\n",
    "\n",
    "# Add more here when needed. Potentially for another type of data normalization or math for inflation adjustment.\n"
   ]
  },
  {
   "cell_type": "markdown",
   "id": "bb9d6501",
   "metadata": {},
   "source": [
    "## CPI Functionality\n",
    "For handling CPI intake and the following:\n",
    "- Get the JSON data from the CSV\n",
    "- Convert the monthly to a quarterly mean\n",
    "- Maintain table setup for joining other tables later"
   ]
  },
  {
   "cell_type": "markdown",
   "id": "206fe6e7",
   "metadata": {},
   "source": [
    "Notes to save time / error logging:\n",
    "- first try I used response.json(); switching to json.loads() to match our plan\n",
    "- CPI values come as strings and sometimes \".\"; coerce then drop\n",
    "- base CPI = latest 2025 quarter if present, else use the latest available"
   ]
  },
  {
   "cell_type": "code",
   "execution_count": 14,
   "id": "ede3c59a",
   "metadata": {},
   "outputs": [],
   "source": [
    "def get_cpi_quarterly(cpi_url, base_year=2025, export_path=\"cpi_clean.csv\"):\n",
    "    r = requests.get(cpi_url)\n",
    "    raw = json.loads(r.text)\n",
    "\n",
    "    obs = raw.get(\"observations\", [])\n",
    "    cpi = pd.DataFrame(obs)[[\"date\", \"value\"]].copy()\n",
    "\n",
    "    cpi[\"date\"] = pd.to_datetime(cpi[\"date\"])\n",
    "    cpi[\"value\"] = pd.to_numeric(cpi[\"value\"], errors=\"coerce\")\n",
    "    cpi = cpi.dropna(subset=[\"value\"])\n",
    "\n",
    "    # monthly to quartlery normalization\n",
    "    # if we need to do this later, we might want to figure out how to make it a call-able helper function instead\n",
    "    cpi[\"qstart\"] = cpi[\"date\"].dt.to_period(\"Q\").dt.start_time\n",
    "    cpi_q = (\n",
    "        cpi.groupby(\"qstart\", as_index=False)[\"value\"]\n",
    "           .mean()\n",
    "           .rename(columns={\"qstart\": \"quarter_start_date\", \"value\": \"cpi_index\"})\n",
    "    )\n",
    "    cpi_q[\"quarter\"] = cpi_q[\"quarter_start_date\"].apply(to_quarter_label)\n",
    "\n",
    "    # choose base year\n",
    "    has_base_year = cpi_q[\"quarter\"].str.startswith(str(base_year)).any()\n",
    "    if has_base_year:\n",
    "        base_row = cpi_q[cpi_q[\"quarter\"].str.startswith(str(base_year))].iloc[-1]\n",
    "    else:\n",
    "        base_row = cpi_q.iloc[-1]\n",
    "\n",
    "    cpi_clean = cpi_q[[\"quarter\", \"cpi_index\"]].copy()\n",
    "    cpi_clean[\"cpi_base_year\"] = base_year\n",
    "    cpi_clean[\"cpi_base_value\"] = float(base_row[\"cpi_index\"])\n",
    "    cpi_clean[\"cpi_base_quarter_used\"] = base_row[\"quarter\"]\n",
    "\n",
    "    save_csv(cpi_clean, export_path)\n",
    "    return cpi_clean"
   ]
  },
  {
   "cell_type": "code",
   "execution_count": null,
   "id": "1032dffb",
   "metadata": {},
   "outputs": [],
   "source": []
  },
  {
   "cell_type": "markdown",
   "id": "b0d54a2c",
   "metadata": {},
   "source": [
    "## EIA WTI Function\n",
    "For handling EIA data and doing the following:\n",
    "- Get JSON data (monthly)\n",
    "- Convert monthly to quarterly mean\n",
    "- Merge CPI from outside (per our split)\n",
    "- Compute real 2025 dollars: real = nominal * (CPI_base / CPI_q)"
   ]
  },
  {
   "cell_type": "markdown",
   "id": "a01c5272",
   "metadata": {},
   "source": [
    "Notes / error logging:\n",
    "- first attempt assumed top-level \"data\"; some responses nest under response.data so handle both in a very basic way\n",
    "- if CPI is missing a quarter, real will be NaN; fine until teammate data lands\n"
   ]
  },
  {
   "cell_type": "code",
   "execution_count": 15,
   "id": "ac63c780",
   "metadata": {},
   "outputs": [],
   "source": [
    "def get_eia_wti_quarterly(eia_url, cpi_df, export_path=\"eia_clean.csv\", base_year=2025):\n",
    "    r = requests.get(eia_url)\n",
    "    parsed = json.loads(r.text)\n",
    "\n",
    "    # try both shapes\n",
    "    if isinstance(parsed, dict) and \"response\" in parsed and \"data\" in parsed[\"response\"]:\n",
    "        rows = parsed[\"response\"][\"data\"]\n",
    "    elif isinstance(parsed, dict) and \"data\" in parsed:\n",
    "        rows = parsed[\"data\"]\n",
    "    else:\n",
    "        rows = []\n",
    "\n",
    "    eia = pd.DataFrame(rows)\n",
    "\n",
    "    # normalize expected columns\n",
    "    if \"period\" not in eia.columns and \"date\" in eia.columns:\n",
    "        eia[\"period\"] = eia[\"date\"]\n",
    "\n",
    "    eia[\"period\"] = pd.to_datetime(eia[\"period\"], errors=\"coerce\")\n",
    "    eia[\"value\"] = pd.to_numeric(eia.get(\"value\", np.nan), errors=\"coerce\")\n",
    "    eia = eia.dropna(subset=[\"period\", \"value\"])\n",
    "\n",
    "    # monthly -> quarterly\n",
    "    eia[\"qstart\"] = eia[\"period\"].dt.to_period(\"Q\").dt.start_time\n",
    "    wti_q = (\n",
    "        eia.groupby(\"qstart\", as_index=False)[\"value\"]\n",
    "           .mean()\n",
    "           .rename(columns={\"qstart\": \"quarter_start_date\", \"value\": \"wti_usd_nominal\"})\n",
    "    )\n",
    "    wti_q[\"quarter\"] = wti_q[\"quarter_start_date\"].apply(to_quarter_label)\n",
    "\n",
    "    # bring in CPI\n",
    "    cpi_small = cpi_df[[\"quarter\", \"cpi_index\", \"cpi_base_value\"]].copy()\n",
    "    merged = wti_q.merge(cpi_small, on=\"quarter\", how=\"left\")\n",
    "\n",
    "    # inflation adjust to constant 2025 dollars\n",
    "    merged[\"wti_usd_real_2025\"] = merged[\"wti_usd_nominal\"] * (merged[\"cpi_base_value\"] / merged[\"cpi_index\"])\n",
    "\n",
    "    eia_clean = merged[[\"quarter\", \"wti_usd_nominal\", \"wti_usd_real_2025\"]].sort_values(\"quarter\").reset_index(drop=True)\n",
    "\n",
    "    save_csv(eia_clean, export_path)\n",
    "    return eia_clean\n"
   ]
  },
  {
   "cell_type": "markdown",
   "id": "f8227049",
   "metadata": {},
   "source": [
    "## Merging Tables and Normalizing Data\n",
    "This part is for alinging and normalizing all the data by doing the following:\n",
    "- show the plan to join once teammate drops in their CSVs\n",
    "- NOTE TO COME BACK TO LATER: for now just try to read and print status if not there\n"
   ]
  },
  {
   "cell_type": "markdown",
   "id": "15cb852f",
   "metadata": {},
   "source": [
    "Notes / error logging:\n",
    "- first run failed when files were missing; now it's optional"
   ]
  },
  {
   "cell_type": "code",
   "execution_count": 16,
   "id": "ceb676a7",
   "metadata": {},
   "outputs": [],
   "source": [
    "def merge_quarterly_skeleton(eia_df, airfare_path=\"airfare_clean.csv\", baggage_path=\"baggage_clean.csv\"):\n",
    "    out = eia_df.copy()\n",
    "    print(\"base:\", out.shape)\n",
    "\n",
    "    try:\n",
    "        airfare = pd.read_csv(airfare_path)\n",
    "        out = out.merge(airfare, on=\"quarter\", how=\"left\")\n",
    "        print(\"merged airfare:\", out.shape)\n",
    "    except Exception:\n",
    "        print(f\"airfare not ready yet -> expecting {airfare_path}\")\n",
    "\n",
    "    try:\n",
    "        baggage = pd.read_csv(baggage_path)\n",
    "        out = out.merge(baggage, on=\"quarter\", how=\"left\")\n",
    "        print(\"merged baggage:\", out.shape)\n",
    "    except Exception:\n",
    "        print(f\"baggage not ready yet -> expecting {baggage_path}\")\n",
    "\n",
    "    return out"
   ]
  },
  {
   "cell_type": "markdown",
   "id": "e7e86e88",
   "metadata": {},
   "source": []
  },
  {
   "cell_type": "markdown",
   "id": "7de960c9",
   "metadata": {},
   "source": [
    "## Printing / Result Checking\n",
    "- COME BACK TO: need to clean up all formatting and such to make it look nice"
   ]
  },
  {
   "cell_type": "code",
   "execution_count": 31,
   "id": "c1192ce2",
   "metadata": {},
   "outputs": [
    {
     "name": "stdout",
     "output_type": "stream",
     "text": [
      "rewrote cpi_clean.csv\n",
      "  quarter  cpi_index  cpi_base_year  cpi_base_value cpi_base_quarter_used\n",
      "0  1947Q1  21.700000           2025         323.288                2025Q3\n",
      "1  1947Q2  22.010000           2025         323.288                2025Q3\n",
      "2  1947Q3  22.490000           2025         323.288                2025Q3\n",
      "3  1947Q4  23.126667           2025         323.288                2025Q3\n",
      "4  1948Q1  23.616667           2025         323.288                2025Q3\n",
      "rewrote eia_clean.csv\n",
      "Empty DataFrame\n",
      "Columns: [quarter, wti_usd_nominal, wti_usd_real_2025]\n",
      "Index: []\n",
      "base: (0, 3)\n",
      "airfare not ready yet -> expecting airfare_clean.csv\n",
      "baggage not ready yet -> expecting baggage_clean.csv\n",
      "Empty DataFrame\n",
      "Columns: [quarter, wti_usd_nominal, wti_usd_real_2025]\n",
      "Index: []\n"
     ]
    }
   ],
   "source": [
    "#Need to reset URL vars in this part:\n",
    "CPI_URL = \"https://api.stlouisfed.org/fred/series/observations?series_id=CPIAUCSL&api_key=8089a399255548ca15cfbc5a36571116&file_type=json\"\n",
    "\n",
    "# EIA WTI URL you provided (monthly spot price)\n",
    "EIA_URL = \"https://api.eia.gov/v2/petroleum/pri/spt/data/?frequency=monthly&data[0]=value&facets[series][]=PET.RWTC&api_key=gc3m0emd44qaMHTNQxwmLqupbzdCtHHB2G6aOCNl\"\n",
    "\n",
    "\n",
    "cpi_df = get_cpi_quarterly(CPI_URL, base_year=2025, export_path=\"cpi_clean.csv\")\n",
    "print(cpi_df.head())\n",
    "\n",
    "# 2) EIA quarterly table with real-dollar column\n",
    "# having issues with the period col\n",
    "eia_df = get_eia_wti_quarterly(EIA_URL, cpi_df, export_path=\"eia_clean.csv\", base_year=2025)\n",
    "print(eia_df.head())\n",
    "\n",
    "# 3) Merge scaffold (will print notes if teammate files are not there yet)\n",
    "combined_preview = merge_quarterly_skeleton(eia_df)\n",
    "print(combined_preview.head())\n"
   ]
  },
  {
   "cell_type": "code",
   "execution_count": null,
   "id": "44d5a064",
   "metadata": {},
   "outputs": [],
   "source": [
    "# After like ten attempts, I give up on the weird URL format and just do it with params instead.\n",
    "def get_eia_wti_quarterly_from_params(api_key, cpi_df, export_path=\"eia_clean.csv\"):\n",
    "    base = \"https://api.eia.gov/v2/petroleum/pri/spt/data/\"\n",
    "    params = {\n",
    "        \"api_key\": api_key,\n",
    "        \"frequency\": \"monthly\",\n",
    "        \"data[0]\": \"value\",\n",
    "        # pull all series, filter in pandas after\n",
    "        \"length\": 5000,  # default page size is small; this avoids truncation\n",
    "        # optional: start at a reasonable date to reduce payload\n",
    "        \"start\": \"2000-01-01\"\n",
    "    }\n",
    "    r = requests.get(base, params=params)\n",
    "    parsed = json.loads(r.text)\n",
    "\n",
    "    rows = []\n",
    "    if isinstance(parsed, dict):\n",
    "        if \"response\" in parsed and isinstance(parsed[\"response\"], dict) and \"data\" in parsed[\"response\"]:\n",
    "            rows = parsed[\"response\"][\"data\"]\n",
    "        elif \"data\" in parsed:\n",
    "            rows = parsed[\"data\"]\n",
    "\n",
    "    eia = pd.DataFrame(rows)\n",
    "\n",
    "    # quick prints for sanity during Phase II\n",
    "    print(\"EIA total rows:\", len(eia))\n",
    "    if not eia.empty:\n",
    "        print(\"EIA columns:\", list(eia.columns)[:10])\n",
    "\n",
    "    if eia.empty:\n",
    "        print(\"EIA returned no rows. Double-check API key and endpoint. Will export empty table.\")\n",
    "        empty = pd.DataFrame(columns=[\"quarter\",\"wti_usd_nominal\",\"wti_usd_real_2025\"])\n",
    "        save_csv(empty, export_path)\n",
    "        return empty\n",
    "\n",
    "    # keep only the WTI spot price series\n",
    "    if \"series\" in eia.columns:\n",
    "        eia = eia[eia[\"series\"].astype(str).str.upper().eq(\"RWTC\")]\n",
    "\n",
    "\n",
    "    # normalize date column\n",
    "    if \"period\" not in eia.columns:\n",
    "        if \"date\" in eia.columns:\n",
    "            eia[\"period\"] = eia[\"date\"]\n",
    "        else:\n",
    "            print(\"No period/date column found in EIA data. Exporting empty.\")\n",
    "            empty = pd.DataFrame(columns=[\"quarter\",\"wti_usd_nominal\",\"wti_usd_real_2025\"])\n",
    "            save_csv(empty, export_path)\n",
    "            return empty\n",
    "\n",
    "    eia[\"period\"] = pd.to_datetime(eia[\"period\"], errors=\"coerce\")\n",
    "    eia[\"value\"] = pd.to_numeric(eia.get(\"value\", np.nan), errors=\"coerce\")\n",
    "    eia = eia.dropna(subset=[\"period\", \"value\"])\n",
    "\n",
    "    # monthly -> quarterly mean\n",
    "    eia[\"qstart\"] = eia[\"period\"].dt.to_period(\"Q\").dt.start_time\n",
    "    wti_q = (\n",
    "        eia.groupby(\"qstart\", as_index=False)[\"value\"]\n",
    "           .mean()\n",
    "           .rename(columns={\"qstart\": \"quarter_start_date\", \"value\": \"wti_usd_nominal\"})\n",
    "    )\n",
    "    wti_q[\"quarter\"] = wti_q[\"quarter_start_date\"].apply(to_quarter_label)\n",
    "\n",
    "    # inflation adjust with CPI already built\n",
    "    cpi_small = cpi_df[[\"quarter\", \"cpi_index\", \"cpi_base_value\"]].copy()\n",
    "    merged = wti_q.merge(cpi_small, on=\"quarter\", how=\"left\")\n",
    "    merged[\"wti_usd_real_2025\"] = merged[\"wti_usd_nominal\"] * (merged[\"cpi_base_value\"] / merged[\"cpi_index\"])\n",
    "\n",
    "    eia_clean = merged[[\"quarter\", \"wti_usd_nominal\", \"wti_usd_real_2025\"]].sort_values(\"quarter\").reset_index(drop=True)\n",
    "    save_csv(eia_clean, export_path)\n",
    "    return eia_clean\n"
   ]
  },
  {
   "cell_type": "code",
   "execution_count": 30,
   "id": "b1ca4633",
   "metadata": {},
   "outputs": [
    {
     "name": "stdout",
     "output_type": "stream",
     "text": [
      "rewrote cpi_clean.csv\n",
      "EIA total rows: 3204\n",
      "EIA columns: ['period', 'duoarea', 'area-name', 'product', 'product-name', 'process', 'process-name', 'series', 'series-description', 'value']\n",
      "rewrote eia_clean.csv\n",
      "  quarter  wti_usd_nominal  wti_usd_real_2025\n",
      "0  2000Q1        28.823333          54.780939\n",
      "1  2000Q2        28.776667          54.266873\n",
      "2  2000Q3        31.613333          59.076366\n",
      "3  2000Q4        31.990000          59.357087\n",
      "4  2001Q1        28.816667          52.962379\n"
     ]
    }
   ],
   "source": [
    "# use this instead of passing a prebuilt URL\n",
    "EIA_API_KEY = \"gc3m0emd44qaMHTNQxwmLqupbzdCtHHB2G6aOCNl\"\n",
    "\n",
    "cpi_df = get_cpi_quarterly(CPI_URL, base_year=2025, export_path=\"cpi_clean.csv\")\n",
    "eia_df = get_eia_wti_quarterly_from_params(EIA_API_KEY, cpi_df, export_path=\"eia_clean.csv\")\n",
    "print(eia_df.head())\n"
   ]
  },
  {
   "cell_type": "markdown",
   "id": "1c41da26",
   "metadata": {},
   "source": [
    "### TESTING"
   ]
  },
  {
   "cell_type": "code",
   "execution_count": 28,
   "id": "3ce132ff",
   "metadata": {},
   "outputs": [
    {
     "name": "stdout",
     "output_type": "stream",
     "text": [
      "['EER_EPMRU_PF4_RGC_DPG' 'RBRTE' 'EER_EPD2DC_PF4_Y05LA_DPG'\n",
      " 'EER_EPJK_PF4_RGC_DPG' 'EER_EPMRR_PF4_Y05LA_DPG'\n",
      " 'EER_EPD2DXL0_PF4_Y35NY_DPG' 'EER_EPLLPA_PF4_Y44MB_DPG'\n",
      " 'EER_EPMRU_PF4_Y35NY_DPG' 'EER_EPD2F_PF4_Y35NY_DPG'\n",
      " 'EER_EPD2DXL0_PF4_RGC_DPG' 'RWTC']\n"
     ]
    }
   ],
   "source": [
    "r = requests.get(\"https://api.eia.gov/v2/petroleum/pri/spt/data/\", params={\n",
    "    \"api_key\": EIA_API_KEY,\n",
    "    \"frequency\": \"monthly\",\n",
    "    \"data[0]\": \"value\",\n",
    "    \"length\": 5000\n",
    "})\n",
    "parsed = json.loads(r.text)\n",
    "rows = parsed[\"response\"][\"data\"]\n",
    "tmp = pd.DataFrame(rows)\n",
    "print(tmp[\"series\"].unique()[:30])\n"
   ]
  },
  {
   "cell_type": "code",
   "execution_count": 32,
   "id": "d23854ef",
   "metadata": {},
   "outputs": [
    {
     "name": "stdout",
     "output_type": "stream",
     "text": [
      "sample rows/keys from EIA: []\n"
     ]
    }
   ],
   "source": [
    "# testing raw data fetch\n",
    "\n",
    "EIA_URL = \"https://api.eia.gov/v2/petroleum/pri/spt/data/?frequency=monthly&data[0]=value&facets[series][]=PET.RWTC&api_key=gc3m0emd44qaMHTNQxwmLqupbzdCtHHB2G6aOCNl\"\n",
    "\n",
    "_raw = json.loads(requests.get(EIA_URL).text)\n",
    "if \"response\" in _raw and isinstance(_raw[\"response\"], dict) and \"data\" in _raw[\"response\"]:\n",
    "    sample = _raw[\"response\"][\"data\"][:3]\n",
    "elif \"data\" in _raw:\n",
    "    sample = _raw[\"data\"][:3]\n",
    "else:\n",
    "    sample = _raw\n",
    "print(\"sample rows/keys from EIA:\", sample[:1])"
   ]
  }
 ],
 "metadata": {
  "kernelspec": {
   "display_name": "cs2316",
   "language": "python",
   "name": "python3"
  },
  "language_info": {
   "codemirror_mode": {
    "name": "ipython",
    "version": 3
   },
   "file_extension": ".py",
   "mimetype": "text/x-python",
   "name": "python",
   "nbconvert_exporter": "python",
   "pygments_lexer": "ipython3",
   "version": "3.11.11"
  }
 },
 "nbformat": 4,
 "nbformat_minor": 5
}
